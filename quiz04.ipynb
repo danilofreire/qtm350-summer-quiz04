{
 "cells": [
  {
   "cell_type": "markdown",
   "metadata": {},
   "source": [
    "# Nobel Laureates and Discoveries Analysis\n",
    "\n",
    "This notebook loads data about Nobel laureates and their discoveries into an SQLite database and performs several analyses based on predefined questions."
   ]
  },
  {
   "cell_type": "code",
   "execution_count": null,
   "metadata": {},
   "outputs": [],
   "source": [
    "import sqlite3\n",
    "import pandas as pd\n",
    "\n",
    "# Connect to an in-memory SQLite database (or replace ':memory:' with 'nobel_data.db' for a file)\n",
    "conn = sqlite3.connect(':memory:')\n",
    "cursor = conn.cursor()\n",
    "\n",
    "# Enable foreign key support\n",
    "cursor.execute(\"PRAGMA foreign_keys = ON;\")\n",
    "\n",
    "print(\"Database connection established and foreign keys enabled.\")"
   ]
  },
  {
   "cell_type": "markdown",
   "metadata": {},
   "source": [
    "## Database Schema Setup\n",
    "\n",
    "First, we drop any existing tables to ensure a clean slate. Then, we create the `nobel_laureates` and `discoveries` tables with SQLite-compatible syntax."
   ]
  },
  {
   "cell_type": "code",
   "execution_count": null,
   "metadata": {},
   "outputs": [],
   "source": [
    "# Drop tables if they exist (SQLite compatible)\n",
    "cursor.execute(\"DROP TABLE IF EXISTS discoveries;\")\n",
    "cursor.execute(\"DROP TABLE IF EXISTS nobel_laureates;\")\n",
    "\n",
    "# Create nobel_laureates table (SQLite compatible)\n",
    "cursor.execute(\"\"\"\n",
    "CREATE TABLE nobel_laureates (\n",
    "    id INTEGER PRIMARY KEY AUTOINCREMENT,\n",
    "    name TEXT NOT NULL,\n",
    "    field TEXT NOT NULL,\n",
    "    year_award INTEGER NOT NULL,\n",
    "    prize_amount REAL NOT NULL,\n",
    "    age_at_award INTEGER NOT NULL\n",
    ");\n",
    "\"\"\")\n",
    "\n",
    "# Create discoveries table (SQLite compatible)\n",
    "cursor.execute(\"\"\"\n",
    "CREATE TABLE discoveries (\n",
    "    id INTEGER PRIMARY KEY AUTOINCREMENT,\n",
    "    laureate_id INTEGER REFERENCES nobel_laureates(id) ON DELETE CASCADE,\n",
    "    discovery TEXT NOT NULL,\n",
    "    year_discovery INTEGER NOT NULL,\n",
    "    research_funding REAL NOT NULL,\n",
    "    citation_count INTEGER NOT NULL\n",
    ");\n",
    "\"\"\")\n",
    "\n",
    "print(\"Tables created successfully.\")"
   ]
  },
  {
   "cell_type": "markdown",
   "metadata": {},
   "source": [
    "## Data Insertion\n",
    "\n",
    "Insert sample data into the newly created tables."
   ]
  },
  {
   "cell_type": "code",
   "execution_count": null,
   "metadata": {},
   "outputs": [],
   "source": [
    "# Insert data into nobel_laureates table\n",
    "nobel_laureates_data = [\n",
    "    ('Marie Curie', 'Physics', 1903, 15000.00, 36),\n",
    "    ('Dorothy Hodgkin', 'Chemistry', 1964, 273000.00, 54),\n",
    "    ('Barbara McClintock', 'Physiology', 1983, 1900000.00, 81),\n",
    "    ('Richard Feynman', 'Physics', 1965, 282000.00, 47),\n",
    "    ('Frederick Sanger', 'Chemistry', 1958, 250000.00, 40),\n",
    "    ('Werner Heisenberg', 'Physics', 1932, 159917.00, 31),\n",
    "    ('Gertrude Elion', 'Physiology', 1988, 2100000.00, 70),\n",
    "    ('Linus Pauling', 'Chemistry', 1954, 236000.00, 53),\n",
    "    ('Max Planck', 'Physics', 1918, 38840.00, 60),\n",
    "    ('Elizabeth Blackburn', 'Physiology', 2009, 10000000.00, 61)\n",
    "]\n",
    "cursor.executemany(\"INSERT INTO nobel_laureates (name, field, year_award, prize_amount, age_at_award) VALUES (?, ?, ?, ?, ?)\", nobel_laureates_data)\n",
    "\n",
    "# Insert data into discoveries table\n",
    "discoveries_data = [\n",
    "    (1, 'Discovery of Radium and Polonium', 1898, 5000.00, 12500),\n",
    "    (2, 'Structure of Vitamin B12', 1954, 30000.00, 8900),\n",
    "    (3, 'Mobile Genetic Elements', 1950, 35000.00, 7800),\n",
    "    (4, 'Quantum Electrodynamics', 1948, 25000.00, 13400),\n",
    "    (5, 'Protein and Insulin Sequencing', 1951, 28000.00, 9500),\n",
    "    (6, 'Uncertainty Principle', 1927, 8000.00, 9800),\n",
    "    (7, 'Drug Development Through Rational Design', 1980, 150000.00, 9200),\n",
    "    (8, 'Chemical Bond Nature', 1931, 15000.00, 11200),\n",
    "    (9, 'Quantum Theory', 1900, 3000.00, 14000),\n",
    "    (10, 'Telomeres and Telomerase', 1984, 180000.00, 10500)\n",
    "]\n",
    "cursor.executemany(\"INSERT INTO discoveries (laureate_id, discovery, year_discovery, research_funding, citation_count) VALUES (?, ?, ?, ?, ?)\", discoveries_data)\n",
    "\n",
    "# Commit changes\n",
    "conn.commit()\n",
    "\n",
    "print(\"Data inserted successfully.\")"
   ]
  },
  {
   "cell_type": "markdown",
   "metadata": {},
   "source": [
    "## Data Analysis Questions\n",
    "\n",
    "Use the connected database (`conn`) and pandas (`pd.read_sql`) to answer the following questions. Write your SQL query as a string and then execute it using `pd.read_sql(your_query_string, conn)` in the code cells below each question."
   ]
  },
  {
   "cell_type": "markdown",
   "metadata": {},
   "source": [
    "### Question 1: List the names of laureates who were awarded the Nobel Prize after the age of 50."
   ]
  },
  {
   "cell_type": "code",
   "execution_count": null,
   "metadata": {},
   "outputs": [],
   "source": [
    "# Write your query for Question 1 here"
   ]
  },
  {
   "cell_type": "markdown",
   "metadata": {},
   "source": [
    "### Question 2: Calculate the total prize money awarded to laureates in the field of Physiology."
   ]
  },
  {
   "cell_type": "code",
   "execution_count": null,
   "metadata": {},
   "outputs": [],
   "source": [
    "# Write your query for Question 2 here"
   ]
  },
  {
   "cell_type": "markdown",
   "metadata": {},
   "source": [
    "### Question 3: What is the average citation count for discoveries made before 1950?"
   ]
  },
  {
   "cell_type": "code",
   "execution_count": null,
   "metadata": {},
   "outputs": [],
   "source": [
    "# Write your query for Question 3 here"
   ]
  },
  {
   "cell_type": "markdown",
   "metadata": {},
   "source": [
    "### Question 4: Calculate the average age of laureates when they received their award, grouped by field."
   ]
  },
  {
   "cell_type": "code",
   "execution_count": null,
   "metadata": {},
   "outputs": [],
   "source": [
    "# Write your query for Question 4 here"
   ]
  },
  {
   "cell_type": "markdown",
   "metadata": {},
   "source": [
    "### Question 5: List the top three most cited discoveries along with their citation counts."
   ]
  },
  {
   "cell_type": "code",
   "execution_count": null,
   "metadata": {},
   "outputs": [],
   "source": [
    "# Write your query for Question 5 here"
   ]
  },
  {
   "cell_type": "markdown",
   "metadata": {},
   "source": [
    "### Question 6: Find all laureates who have more than one discovery listed in the database.\n",
    "\n",
    "*Note: The sample data only has one discovery per laureate. Your query should still be written to handle cases where a laureate might have multiple discoveries.*"
   ]
  },
  {
   "cell_type": "code",
   "execution_count": null,
   "metadata": {},
   "outputs": [],
   "source": [
    "# Write your query for Question 6 here"
   ]
  },
  {
   "cell_type": "markdown",
   "metadata": {},
   "source": [
    "### Question 7: Calculate the total research funding for discoveries made by laureates in each field."
   ]
  },
  {
   "cell_type": "code",
   "execution_count": null,
   "metadata": {},
   "outputs": [],
   "source": [
    "# Write your query for Question 7 here"
   ]
  },
  {
   "cell_type": "markdown",
   "metadata": {},
   "source": [
    "### Question 8: Which laureate had the longest gap between their discovery and receiving their Nobel Prize?"
   ]
  },
  {
   "cell_type": "code",
   "execution_count": null,
   "metadata": {},
   "outputs": [],
   "source": [
    "# Write your query for Question 8 here"
   ]
  },
  {
   "cell_type": "markdown",
   "metadata": {},
   "source": [
    "### Question 9: Find all laureates whose names contain the string \"in\" (case-insensitive)."
   ]
  },
  {
   "cell_type": "code",
   "execution_count": null,
   "metadata": {},
   "outputs": [],
   "source": [
    "# Write your query for Question 9 here"
   ]
  },
  {
   "cell_type": "markdown",
   "metadata": {},
   "source": [
    "### Question 10: Find all discoveries that had research funding over $10,000 and more than 1000 citations."
   ]
  },
  {
   "cell_type": "code",
   "execution_count": null,
   "metadata": {},
   "outputs": [],
   "source": [
    "# Write your query for Question 10 here"
   ]
  },
  {
   "cell_type": "markdown",
   "metadata": {},
   "source": [
    "### Question 11: What percentage of all discoveries were funded with more than $20,000?"
   ]
  },
  {
   "cell_type": "code",
   "execution_count": null,
   "metadata": {},
   "outputs": [],
   "source": [
    "# Write your query for Question 11 here"
   ]
  },
  {
   "cell_type": "markdown",
   "metadata": {},
   "source": [
    "### Question 12: Rank all discoveries by citation count within each field (Physics, Chemistry, etc.).\n",
    "\n",
    "*Note: Requires SQLite version 3.25.0 or higher for window functions.*"
   ]
  },
  {
   "cell_type": "code",
   "execution_count": null,
   "metadata": {},
   "outputs": [],
   "source": [
    "# Write your query for Question 12 here"
   ]
  },
  {
   "cell_type": "markdown",
   "metadata": {},
   "source": [
    "## Cleanup\n",
    "\n",
    "Close the database connection when you are finished."
   ]
  },
  {
   "cell_type": "code",
   "execution_count": null,
   "metadata": {},
   "outputs": [],
   "source": [
    "# Close the connection\n",
    "# conn.close()\n",
    "# print(\"Database connection closed.\")"
   ]
  }
 ],
 "metadata": {
  "kernelspec": {
   "display_name": "Python 3",
   "language": "python",
   "name": "python3"
  },
  "language_info": {
   "codemirror_mode": {
    "name": "ipython",
    "version": 3
   },
   "file_extension": ".py",
   "mimetype": "text/x-python",
   "name": "python",
   "nbconvert_exporter": "python",
   "pygments_lexer": "ipython3",
   "version": "3.9.7"
  }
 },
 "nbformat": 4,
 "nbformat_minor": 4
}
